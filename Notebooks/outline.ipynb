{
 "cells": [
  {
   "cell_type": "markdown",
   "id": "80d45f3c-279e-4230-a72a-4c8b95400feb",
   "metadata": {
    "jp-MarkdownHeadingCollapsed": true
   },
   "source": [
    "## Hello"
   ]
  },
  {
   "cell_type": "markdown",
   "id": "f2684a08-36cb-4ecd-89fd-4c218f783a93",
   "metadata": {},
   "source": [
    "## WTA map and 5 random hikes map "
   ]
  },
  {
   "cell_type": "markdown",
   "id": "1b7f1686-44c3-4512-ad48-c2582aecc5e5",
   "metadata": {},
   "source": [
    "## Why not install Python"
   ]
  },
  {
   "cell_type": "markdown",
   "id": "1decb575-935a-4454-a72d-3591aaf8955e",
   "metadata": {},
   "source": [
    "## Anaconda"
   ]
  },
  {
   "cell_type": "markdown",
   "id": "fd3058b1-d0e8-4bfc-b33f-68dae6539b61",
   "metadata": {},
   "source": [
    "## GeoPandas detour in Jupyter Notebook"
   ]
  },
  {
   "cell_type": "markdown",
   "id": "6cd42d3d-7f3e-43b0-be7c-622aea2b9cc8",
   "metadata": {},
   "source": [
    "## Anaconda made PyScript"
   ]
  },
  {
   "cell_type": "markdown",
   "id": "b0518be4-126d-4ff2-8c8b-418116fd9ce3",
   "metadata": {},
   "source": [
    "## What is PyScript? pyscript.net"
   ]
  },
  {
   "cell_type": "markdown",
   "id": "51eb8a5a-c18c-45dd-bb2b-3ba29c1fcce1",
   "metadata": {},
   "source": [
    "## Make a brand html file running pyscript"
   ]
  },
  {
   "cell_type": "markdown",
   "id": "f3890c82-a502-4e7d-a995-33ac0a0098b2",
   "metadata": {},
   "source": [
    "## Hodgepodge PyScript example"
   ]
  },
  {
   "cell_type": "markdown",
   "id": "180c6591-1396-4be0-97c2-5890df5c2c06",
   "metadata": {},
   "source": [
    "## Matplotlib PyScript example"
   ]
  },
  {
   "cell_type": "markdown",
   "id": "9a50db46-85f4-4a85-83ab-a4ff61724823",
   "metadata": {},
   "source": [
    "## Back to sample hike map example - show code"
   ]
  },
  {
   "cell_type": "markdown",
   "id": "3ee9ce6c-3e27-41c7-afc0-3b666188402a",
   "metadata": {},
   "source": [
    "## Map example in PyScript.com"
   ]
  },
  {
   "cell_type": "markdown",
   "id": "238c6de4-601a-4f27-97d5-3745316ca608",
   "metadata": {},
   "source": [
    "## Pros and cons\n",
    "\n",
    "Pros\n",
    "- No installation\n",
    "- Fun and powerful\n",
    "\n",
    "Cons\n",
    "- New, may be buggy, not much documentation\n",
    "- Code may be hard to develop and debug"
   ]
  },
  {
   "cell_type": "markdown",
   "id": "6c331457-2d59-4abe-a7ae-70f81c2c95ca",
   "metadata": {},
   "source": [
    "## Other ways people have found to avoid installing Python?"
   ]
  }
 ],
 "metadata": {
  "kernelspec": {
   "display_name": "Python 3 (ipykernel)",
   "language": "python",
   "name": "python3"
  },
  "language_info": {
   "codemirror_mode": {
    "name": "ipython",
    "version": 3
   },
   "file_extension": ".py",
   "mimetype": "text/x-python",
   "name": "python",
   "nbconvert_exporter": "python",
   "pygments_lexer": "ipython3",
   "version": "3.11.6"
  }
 },
 "nbformat": 4,
 "nbformat_minor": 5
}
