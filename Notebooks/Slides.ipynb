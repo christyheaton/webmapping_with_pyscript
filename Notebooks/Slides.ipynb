{
 "cells": [
  {
   "cell_type": "markdown",
   "id": "bbe35050-9016-4aaf-bd66-c2654ff3d0a1",
   "metadata": {},
   "source": [
    "- Show web map, why i want to see only 5 random hikes\n",
    "- Why not install Python\n",
    "- Mention Anaconda\n",
    "- GeoPandas detour in Jupyter Notebook\n",
    "- Anaconda made PyScript\n",
    "- What is PyScript\n",
    "- Simple PyScript Demo\n",
    "- Intermediate PyScript Demo\n",
    "- Show detail about original web map\n",
    "- Show PyScript.com\n",
    "- Pros and Cons\n",
    "- Other ways people have found "
   ]
  },
  {
   "cell_type": "code",
   "execution_count": null,
   "id": "16d0e600-2c30-4a82-bc7d-c23e2337df9f",
   "metadata": {},
   "outputs": [],
   "source": [
    "# a few import statements\r\n",
    "import pandas as pd\r\n",
    "import geopandas as gpd\r\n",
    "import folium"
   ]
  },
  {
   "cell_type": "code",
   "execution_count": null,
   "id": "b758cf92-a213-49f3-ac33-a69fddf7045b",
   "metadata": {},
   "outputs": [],
   "source": [
    "# load in data that was scraped from the Washington Trails Association (WTA) website\n",
    "# https://github.com/yoshiohasegawa/wta-scraper\n",
    "\n",
    "hikes_df = pd.read_csv('../Data/2021-04-25_wta_hike_data.csv') "
   ]
  },
  {
   "cell_type": "code",
   "execution_count": null,
   "id": "7e2c4f6b-1df2-453f-b61f-d04e598b2b7a",
   "metadata": {},
   "outputs": [],
   "source": [
    "hikes_df.at[937,'LATITUDE'] = 48.3093\n",
    "hikes_df.at[937,'LONGITUDE'] = -120.6565\n",
    "hikes_df.at[2412,'LONGITUDE'] = -120.4"
   ]
  },
  {
   "cell_type": "code",
   "execution_count": null,
   "id": "6378f47a-e31a-4ae1-aa59-005b60715b70",
   "metadata": {},
   "outputs": [],
   "source": [
    "hikes_df = hikes_df.dropna(subset=['LATITUDE', 'LONGITUDE', 'DISTANCE'])"
   ]
  },
  {
   "cell_type": "code",
   "execution_count": null,
   "id": "8fc8ac10-063f-4e7e-9e2d-dee0a37abb89",
   "metadata": {},
   "outputs": [],
   "source": [
    "hikes_df.head()"
   ]
  },
  {
   "cell_type": "code",
   "execution_count": null,
   "id": "67d98361-8abc-4886-a7b4-feeacf295dee",
   "metadata": {},
   "outputs": [],
   "source": [
    "hikes_gdf = gpd.GeoDataFrame(hikes_df, geometry=gpd.points_from_xy(hikes_df.LONGITUDE, hikes_df.LATITUDE))"
   ]
  },
  {
   "cell_type": "code",
   "execution_count": null,
   "id": "118d1098-13fc-49b4-836c-d53f5a8b7728",
   "metadata": {},
   "outputs": [],
   "source": [
    "hikes_gdf = hikes_gdf.set_crs('epsg:4326')"
   ]
  },
  {
   "cell_type": "code",
   "execution_count": null,
   "id": "bedc2140-6e14-4e5a-90fe-683aaedbf8a5",
   "metadata": {},
   "outputs": [],
   "source": [
    "hikes_gdf.explore(tiles='CartoDB positron')"
   ]
  },
  {
   "cell_type": "code",
   "execution_count": null,
   "id": "8b569d4b-0553-4226-9dd6-4d03a18a9479",
   "metadata": {},
   "outputs": [],
   "source": [
    "sample_hikes = hikes_gdf.sample(n=5)"
   ]
  },
  {
   "cell_type": "code",
   "execution_count": null,
   "id": "fe51831f-e13d-40bf-b801-37f4e8deb630",
   "metadata": {},
   "outputs": [],
   "source": [
    "sample_hikes.explore(tiles='CartoDB positron')"
   ]
  }
 ],
 "metadata": {
  "kernelspec": {
   "display_name": "Python 3 (ipykernel)",
   "language": "python",
   "name": "python3"
  },
  "language_info": {
   "codemirror_mode": {
    "name": "ipython",
    "version": 3
   },
   "file_extension": ".py",
   "mimetype": "text/x-python",
   "name": "python",
   "nbconvert_exporter": "python",
   "pygments_lexer": "ipython3",
   "version": "3.11.6"
  }
 },
 "nbformat": 4,
 "nbformat_minor": 5
}
